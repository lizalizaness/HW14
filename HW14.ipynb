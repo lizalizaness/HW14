{
 "cells": [
  {
   "cell_type": "code",
   "execution_count": 38,
   "id": "a05fe189-3ebc-4d62-a467-d996eeb4028b",
   "metadata": {
    "tags": []
   },
   "outputs": [],
   "source": [
    "for i in range(n):\n",
    "    i*=i\n",
    "    if i>=n:\n",
    "        break"
   ]
  },
  {
   "cell_type": "code",
   "execution_count": 40,
   "id": "8ab3c127-d8f2-45ed-927e-a540c064ba88",
   "metadata": {
    "tags": []
   },
   "outputs": [
    {
     "name": "stdout",
     "output_type": "stream",
     "text": [
      "Current i (squared): 0\n",
      "Current i (squared): 1\n",
      "Current i (squared): 4\n",
      "Current i (squared): 9\n"
     ]
    }
   ],
   "source": [
    "def test_code(n):\n",
    "    for i in range(n):\n",
    "        i *= i\n",
    "        print(f\"Current i (squared): {i}\")\n",
    "        if i >= n:\n",
    "            break\n",
    "n = 5\n",
    "test_code(n)"
   ]
  },
  {
   "cell_type": "code",
   "execution_count": 7,
   "id": "0e438590-08ee-4d49-b1f5-3ac0a1767e1c",
   "metadata": {
    "tags": []
   },
   "outputs": [],
   "source": [
    "for i in range(n):\n",
    "    i=pow(2,i)\n",
    "    if i>(n+1):\n",
    "        break"
   ]
  },
  {
   "cell_type": "code",
   "execution_count": 43,
   "id": "8c54d88e-9647-4f1e-856d-efa47622b841",
   "metadata": {
    "tags": []
   },
   "outputs": [
    {
     "name": "stdout",
     "output_type": "stream",
     "text": [
      "Current i (2^0): 1\n",
      "Current i (2^1): 2\n",
      "Current i (2^2): 4\n",
      "Current i (2^3): 8\n",
      "Current i (2^4): 16\n"
     ]
    }
   ],
   "source": [
    "def test_code(n):\n",
    "    for i in range(n):\n",
    "        i = pow(2, i)\n",
    "        print(f\"Current i (2^{i.bit_length()-1}): {i}\") \n",
    "        \n",
    "        if i > (n + 1):\n",
    "            break\n",
    "n = 10 \n",
    "test_code(n)"
   ]
  },
  {
   "cell_type": "code",
   "execution_count": 10,
   "id": "f4b46bba-c222-4cb6-87ea-39426d3427b5",
   "metadata": {
    "tags": []
   },
   "outputs": [],
   "source": [
    "def complex_method(n):\n",
    "\n",
    "    for i in range (n):\n",
    "\n",
    "        print (i,n)\n",
    "\n",
    "        if n>1:\n",
    "\n",
    "            complex_method(n-1)\n",
    "\n",
    "        else:\n",
    "\n",
    "            return True"
   ]
  },
  {
   "cell_type": "code",
   "execution_count": 42,
   "id": "eb0bc184-620a-4db3-897e-675c39cbef9c",
   "metadata": {
    "tags": []
   },
   "outputs": [
    {
     "name": "stdout",
     "output_type": "stream",
     "text": [
      "Current i: 0, Current n: 3\n",
      "Current i: 0, Current n: 2\n",
      "Current i: 0, Current n: 1\n",
      "Current i: 1, Current n: 2\n",
      "Current i: 0, Current n: 1\n",
      "Current i: 1, Current n: 3\n",
      "Current i: 0, Current n: 2\n",
      "Current i: 0, Current n: 1\n",
      "Current i: 1, Current n: 2\n",
      "Current i: 0, Current n: 1\n",
      "Current i: 2, Current n: 3\n",
      "Current i: 0, Current n: 2\n",
      "Current i: 0, Current n: 1\n",
      "Current i: 1, Current n: 2\n",
      "Current i: 0, Current n: 1\n"
     ]
    }
   ],
   "source": [
    "def complex_method(n):\n",
    "    for i in range(n):\n",
    "        print(f\"Current i: {i}, Current n: {n}\")\n",
    "        if n > 1:\n",
    "            complex_method(n - 1)\n",
    "        else:\n",
    "            return True\n",
    "n = 3\n",
    "complex_method(n)"
   ]
  },
  {
   "cell_type": "code",
   "execution_count": 17,
   "id": "d1badedf-0dd4-442a-9de1-f7d62c228da7",
   "metadata": {
    "tags": []
   },
   "outputs": [],
   "source": [
    "#Task 2.1"
   ]
  },
  {
   "cell_type": "code",
   "execution_count": 19,
   "id": "1e24e1a4-eb36-44e3-8453-2a735e68cc5d",
   "metadata": {},
   "outputs": [],
   "source": [
    "def sum_of_digits(n):\n",
    "    if n == 0:\n",
    "        return 0\n",
    "    return n % 10 + sum_of_digits(n // 10)"
   ]
  },
  {
   "cell_type": "code",
   "execution_count": 24,
   "id": "783e847f-aa0b-4735-ac1b-c0cf00a618a7",
   "metadata": {
    "tags": []
   },
   "outputs": [
    {
     "name": "stdin",
     "output_type": "stream",
     "text": [
      "Enter a natural number:  4546\n"
     ]
    },
    {
     "name": "stdout",
     "output_type": "stream",
     "text": [
      "Sum of digits of 4546 is 19\n"
     ]
    }
   ],
   "source": [
    "def sum_of_digits(n):\n",
    "    if n == 0:\n",
    "        return 0\n",
    "    return n % 10 + sum_of_digits(n // 10)\n",
    "try:\n",
    "    user_input = int(input(\"Enter a natural number: \"))\n",
    "    if user_input < 0:\n",
    "        print(\"Please enter a non-negative integer\")\n",
    "    else:\n",
    "        result = sum_of_digits(user_input)\n",
    "        print(f\"Sum of digits of {user_input} is {result}\")\n",
    "except ValueError:\n",
    "    print(\"Invalid input! Please enter a valid natural number\")"
   ]
  },
  {
   "cell_type": "code",
   "execution_count": 25,
   "id": "571b85fa-72c9-4d65-976b-1f16da3866cc",
   "metadata": {
    "tags": []
   },
   "outputs": [],
   "source": [
    "##Task 2.2"
   ]
  },
  {
   "cell_type": "code",
   "execution_count": 26,
   "id": "0e63a1ad-0bbd-4b37-88cb-8bb29784e9b1",
   "metadata": {
    "tags": []
   },
   "outputs": [],
   "source": [
    "def sum_upto_n(n):\n",
    "    if n == 0:\n",
    "        return 0\n",
    "    return n + sum_upto_n(n - 1)"
   ]
  },
  {
   "cell_type": "code",
   "execution_count": 29,
   "id": "3fcaaade-ae7b-463d-8331-8c7b31c214ec",
   "metadata": {
    "tags": []
   },
   "outputs": [
    {
     "name": "stdin",
     "output_type": "stream",
     "text": [
      "Enter a natural number:  10\n"
     ]
    },
    {
     "name": "stdout",
     "output_type": "stream",
     "text": [
      "Sum of all numbers from 0 to 10 is 55\n"
     ]
    }
   ],
   "source": [
    "def sum_upto_n(n):\n",
    "    if n == 0:\n",
    "        return 0\n",
    "    return n + sum_upto_n(n - 1)\n",
    "try:\n",
    "    user_input = int(input(\"Enter a natural number: \"))\n",
    "    if user_input < 0: \n",
    "        print(\"Please enter a non-negative integer\")\n",
    "    else:\n",
    "        result = sum_upto_n(user_input)\n",
    "        print(f\"Sum of all numbers from 0 to {user_input} is {result}\")\n",
    "except ValueError:\n",
    "    print(\"Invalid input! Please enter a valid natural number\")"
   ]
  },
  {
   "cell_type": "code",
   "execution_count": 30,
   "id": "6961519a-07ef-4bc1-967a-c3d7c5d55eff",
   "metadata": {
    "tags": []
   },
   "outputs": [],
   "source": [
    "##Task 2.3"
   ]
  },
  {
   "cell_type": "code",
   "execution_count": 31,
   "id": "fedaa8b9-82cb-4654-8f2b-1da0bc7dd9b6",
   "metadata": {
    "tags": []
   },
   "outputs": [],
   "source": [
    "def fibonacci(n):\n",
    "    if n == 0:\n",
    "        return 0\n",
    "    elif n == 1:\n",
    "        return 1\n",
    "    else:\n",
    "        return fibonacci(n - 1) + fibonacci(n - 2)"
   ]
  },
  {
   "cell_type": "code",
   "execution_count": 34,
   "id": "213dd4c9-7f8e-4f67-915d-d1be244765b4",
   "metadata": {
    "tags": []
   },
   "outputs": [
    {
     "name": "stdin",
     "output_type": "stream",
     "text": [
      "Enter a natural number to get the Fibonacci value:  7\n"
     ]
    },
    {
     "name": "stdout",
     "output_type": "stream",
     "text": [
      "The Fibonacci value of 7 is 13\n"
     ]
    }
   ],
   "source": [
    "def fibonacci(n):\n",
    "    if n == 0:\n",
    "        return 0\n",
    "    elif n == 1:\n",
    "        return 1\n",
    "    else:\n",
    "        return fibonacci(n - 1) + fibonacci(n - 2)\n",
    "try:\n",
    "    user_input = int(input(\"Enter a natural number to get the Fibonacci value: \"))\n",
    "    if user_input < 0:\n",
    "        print(\"Please enter a non-negative integer.\")\n",
    "    else:\n",
    "        result = fibonacci(user_input)\n",
    "        print(f\"The Fibonacci value of {user_input} is {result}\")\n",
    "except ValueError:\n",
    "    print(\"Invalid input! Please enter a valid natural number.\")"
   ]
  },
  {
   "cell_type": "code",
   "execution_count": null,
   "id": "c02e6f2d-f1ff-4cf0-a6e3-9cc4e2c2464a",
   "metadata": {},
   "outputs": [],
   "source": []
  }
 ],
 "metadata": {
  "kernelspec": {
   "display_name": "Python 3 (ipykernel)",
   "language": "python",
   "name": "python3"
  },
  "language_info": {
   "codemirror_mode": {
    "name": "ipython",
    "version": 3
   },
   "file_extension": ".py",
   "mimetype": "text/x-python",
   "name": "python",
   "nbconvert_exporter": "python",
   "pygments_lexer": "ipython3",
   "version": "3.10.9"
  }
 },
 "nbformat": 4,
 "nbformat_minor": 5
}
